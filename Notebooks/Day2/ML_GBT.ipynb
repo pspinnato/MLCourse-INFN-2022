{
 "cells": [
  {
   "cell_type": "markdown",
   "metadata": {},
   "source": [
    "# Hands-on Day 2\n",
    "\n",
    "- course [slides](https://github.com/Course-bigDataAndML/MLCourse-INFN-2022/blob/master/Slides/Day2/Big%20data%20science%20-%20Day%202%20-%20INFN%202022.pdf)\n",
    "\n",
    "\n",
    "## You'll learn\n",
    "\n",
    "### ML methods\n",
    "- Gradient Boosting Trees with pyspark.ml\n",
    "\n",
    "### ML techniques\n",
    "- hyperparameter optimisation\n",
    "- ROC curves"
   ]
  },
  {
   "cell_type": "code",
   "execution_count": 2,
   "metadata": {},
   "outputs": [],
   "source": [
    "#initial imports\n",
    "import pandas as pd\n",
    "import numpy as np\n",
    "import matplotlib.pyplot as plt\n",
    "%matplotlib inline\n",
    "\n",
    "# our custom functions\n",
    "from custom_functions import *"
   ]
  },
  {
   "cell_type": "markdown",
   "metadata": {},
   "source": [
    "#### Remember to start spark by clicking on the square icon all the way to the right\n",
    "\n",
    "Setup and restart the Spark context with our configuration"
   ]
  },
  {
   "cell_type": "code",
   "execution_count": 3,
   "metadata": {},
   "outputs": [
    {
     "data": {
      "text/html": [
       "\n",
       "        <div>\n",
       "            <p><b>SparkContext</b></p>\n",
       "\n",
       "            <p><a href=\"http://10.244.1.52:4040\">Spark UI</a></p>\n",
       "\n",
       "            <dl>\n",
       "              <dt>Version</dt>\n",
       "                <dd><code>v3.0.1</code></dd>\n",
       "              <dt>Master</dt>\n",
       "                <dd><code>k8s://https://kubernetes:443</code></dd>\n",
       "              <dt>AppName</dt>\n",
       "                <dd><code>MyApp</code></dd>\n",
       "            </dl>\n",
       "        </div>\n",
       "        "
      ],
      "text/plain": [
       "<SparkContext master=k8s://https://kubernetes:443 appName=MyApp>"
      ]
     },
     "execution_count": 3,
     "metadata": {},
     "output_type": "execute_result"
    }
   ],
   "source": [
    "from pyspark.sql import SparkSession\n",
    "from pyspark import SparkConf, SparkContext\n",
    "\n",
    "# get token to authenticate to minio storage\n",
    "!eval `oidc-keychain` > /dev/null && oidc-token dodas --time=3600 > /tmp/token\n",
    "with open('/tmp/token') as f:\n",
    "    token = f.readlines()[0].split(\"\\n\")[0]\n",
    "\n",
    "# build Spark configuration options    \n",
    "conf = setupSpark(token)\n",
    "\n",
    "# to update Spark config, we need first to stop the spark context\n",
    "SparkContext.stop(sc)\n",
    "\n",
    "# Then create first spark context, and then session\n",
    "sc = SparkContext(conf = conf)\n",
    "spark = SparkSession.builder.config(conf=conf).getOrCreate()\n",
    "\n",
    "# check if Spark is there\n",
    "sc"
   ]
  },
  {
   "cell_type": "markdown",
   "metadata": {},
   "source": [
    "# Data preprocessing"
   ]
  },
  {
   "cell_type": "code",
   "execution_count": 4,
   "metadata": {},
   "outputs": [
    {
     "name": "stdout",
     "output_type": "stream",
     "text": [
      "CPU times: user 8.85 ms, sys: 2.12 ms, total: 11 ms\n",
      "Wall time: 8.19 s\n",
      "There are 99999 events\n"
     ]
    }
   ],
   "source": [
    "inputFile = \"s3a://scratch/legger/higgs/Higgs100k.parquet\"\n",
    "\n",
    "%time df = spark.read.format('parquet').option('header', 'true').option('inferschema', 'true').load(inputFile)\n",
    "\n",
    "total_events = df.count()\n",
    "print('There are '+str(total_events)+' events')"
   ]
  },
  {
   "cell_type": "markdown",
   "metadata": {},
   "source": [
    "#  Exercise 1\n",
    "\n",
    "- split the dataframe *df* into two dataframes, called *train* and *test* containing respectively 80% and 20% of the events (randomly distributed between the two samples) "
   ]
  },
  {
   "cell_type": "code",
   "execution_count": 5,
   "metadata": {},
   "outputs": [
    {
     "name": "stdout",
     "output_type": "stream",
     "text": [
      "There are 80084 , 19915 events\n"
     ]
    }
   ],
   "source": [
    "#split the dataset for training and test\n",
    "train,test=df.randomSplit([.8,.2])\n",
    "train_events = train.count()\n",
    "test_events = test.count()\n",
    "print('There are '+str(train_events)+' , '+str(test_events)+' events')\n",
    "# your code here"
   ]
  },
  {
   "cell_type": "markdown",
   "metadata": {},
   "source": [
    "#### Create the input feature vector - remember, this was part of yesterday hands-on\n",
    "\n",
    "- Libraries for ML tipically take as inputs data in a very specific format. Documentation on how to do data preprocessing in Spark: https://spark.apache.org/docs/latest/ml-features.html\n",
    "- Try to add to the dataframe *train* a new column, called 'features' which is a vector column with all the variables above except for 'label'\n",
    "   - features = [lepton_pT, lepton_eta, lepton_phi, ...]\n",
    "   - Hint: look at the VectorAssembler transformer\n",
    "- do the same for dataframe *test*"
   ]
  },
  {
   "cell_type": "code",
   "execution_count": 6,
   "metadata": {},
   "outputs": [],
   "source": [
    "# create the input feature vector \n",
    "feature = train.columns\n",
    "feature.remove('label')\n",
    "\n",
    "from pyspark.ml.feature import VectorAssembler\n",
    "\n",
    "#VectorAssembler is a transformer that combines a given list of columns into a single vector column\n",
    "assembler = VectorAssembler(inputCols=feature, outputCol='features')\n",
    "train = assembler.transform(train)\n",
    "test = assembler.transform(test)"
   ]
  },
  {
   "cell_type": "markdown",
   "metadata": {},
   "source": [
    "# ML models: GBT"
   ]
  },
  {
   "cell_type": "code",
   "execution_count": 7,
   "metadata": {},
   "outputs": [],
   "source": [
    "# ML model: GBT (Gradient Boosting Trees)\n",
    "# Documentation at https://spark.apache.org/docs/2.2.0/ml-classification-regression.html\n",
    "from pyspark.ml.classification import GBTClassifier\n",
    "\n",
    "# slow, 25 minutes training time    \n",
    "#gbt = GBTClassifier(labelCol='label', featuresCol='features', maxIter=50, maxDepth=10) #slow\n",
    "\n",
    "# fast, about 1-2m to train\n",
    "gbt = GBTClassifier(labelCol='label', featuresCol='features', maxIter=10, maxDepth=3) "
   ]
  },
  {
   "cell_type": "code",
   "execution_count": 8,
   "metadata": {},
   "outputs": [
    {
     "name": "stdout",
     "output_type": "stream",
     "text": [
      "CPU times: user 343 ms, sys: 56.1 ms, total: 399 ms\n",
      "Wall time: 27.7 s\n"
     ]
    }
   ],
   "source": [
    "%%time\n",
    "gbt_model = gbt.fit(train)"
   ]
  },
  {
   "cell_type": "code",
   "execution_count": 9,
   "metadata": {},
   "outputs": [
    {
     "name": "stdout",
     "output_type": "stream",
     "text": [
      "Test set AUC = 0.7410449647759402\n"
     ]
    }
   ],
   "source": [
    "# compute AUC on the test set\n",
    "result = gbt_model.transform(test)\n",
    "\n",
    "from pyspark.ml.evaluation import BinaryClassificationEvaluator\n",
    "evaluator = BinaryClassificationEvaluator(labelCol='label', metricName=\"areaUnderROC\")\n",
    "print(\"Test set AUC = \" + str(evaluator.evaluate(result)))"
   ]
  },
  {
   "cell_type": "code",
   "execution_count": 10,
   "metadata": {},
   "outputs": [
    {
     "name": "stdout",
     "output_type": "stream",
     "text": [
      "AUC: 0.741\n",
      "+-----+----------+-----+\n",
      "|label|prediction|count|\n",
      "+-----+----------+-----+\n",
      "|  1.0|       1.0| 7462|\n",
      "|  0.0|       1.0| 3359|\n",
      "|  1.0|       0.0| 3084|\n",
      "|  0.0|       0.0| 6010|\n",
      "+-----+----------+-----+\n",
      "\n",
      "n precision: 0.690\n",
      "n recall: 0.708\n",
      "n accuracy: 0.676\n",
      "n F1 score: 0.698\n"
     ]
    }
   ],
   "source": [
    "#print metrics\n",
    "printMetrics(evaluator, result)"
   ]
  },
  {
   "cell_type": "code",
   "execution_count": 11,
   "metadata": {},
   "outputs": [
    {
     "data": {
      "text/plain": [
       "{Param(parent='GBTClassifier_3f47cb87f347', name='cacheNodeIds', doc='If false, the algorithm will pass trees to executors to match instances with nodes. If true, the algorithm will cache node IDs for each instance. Caching can speed up training of deeper trees. Users can set how often should the cache be checkpointed or disable it by setting checkpointInterval.'): False,\n",
       " Param(parent='GBTClassifier_3f47cb87f347', name='checkpointInterval', doc='set checkpoint interval (>= 1) or disable checkpoint (-1). E.g. 10 means that the cache will get checkpointed every 10 iterations. Note: this setting will be ignored if the checkpoint directory is not set in the SparkContext.'): 10,\n",
       " Param(parent='GBTClassifier_3f47cb87f347', name='featureSubsetStrategy', doc=\"The number of features to consider for splits at each tree node. Supported options: 'auto' (choose automatically for task: If numTrees == 1, set to 'all'. If numTrees > 1 (forest), set to 'sqrt' for classification and to 'onethird' for regression), 'all' (use all features), 'onethird' (use 1/3 of the features), 'sqrt' (use sqrt(number of features)), 'log2' (use log2(number of features)), 'n' (when n is in the range (0, 1.0], use n * number of features. When n is in the range (1, number of features), use n features). default = 'auto'\"): 'all',\n",
       " Param(parent='GBTClassifier_3f47cb87f347', name='featuresCol', doc='features column name.'): 'features',\n",
       " Param(parent='GBTClassifier_3f47cb87f347', name='impurity', doc='Criterion used for information gain calculation (case-insensitive). Supported options: variance'): 'variance',\n",
       " Param(parent='GBTClassifier_3f47cb87f347', name='labelCol', doc='label column name.'): 'label',\n",
       " Param(parent='GBTClassifier_3f47cb87f347', name='leafCol', doc='Leaf indices column name. Predicted leaf index of each instance in each tree by preorder.'): '',\n",
       " Param(parent='GBTClassifier_3f47cb87f347', name='lossType', doc='Loss function which GBT tries to minimize (case-insensitive). Supported options: logistic'): 'logistic',\n",
       " Param(parent='GBTClassifier_3f47cb87f347', name='maxBins', doc='Max number of bins for discretizing continuous features.  Must be >=2 and >= number of categories for any categorical feature.'): 32,\n",
       " Param(parent='GBTClassifier_3f47cb87f347', name='maxDepth', doc='Maximum depth of the tree. (>= 0) E.g., depth 0 means 1 leaf node; depth 1 means 1 internal node + 2 leaf nodes.'): 3,\n",
       " Param(parent='GBTClassifier_3f47cb87f347', name='maxIter', doc='max number of iterations (>= 0).'): 10,\n",
       " Param(parent='GBTClassifier_3f47cb87f347', name='maxMemoryInMB', doc='Maximum memory in MB allocated to histogram aggregation. If too small, then 1 node will be split per iteration, and its aggregates may exceed this size.'): 256,\n",
       " Param(parent='GBTClassifier_3f47cb87f347', name='minInfoGain', doc='Minimum information gain for a split to be considered at a tree node.'): 0.0,\n",
       " Param(parent='GBTClassifier_3f47cb87f347', name='minInstancesPerNode', doc='Minimum number of instances each child must have after split. If a split causes the left or right child to have fewer than minInstancesPerNode, the split will be discarded as invalid. Should be >= 1.'): 1,\n",
       " Param(parent='GBTClassifier_3f47cb87f347', name='minWeightFractionPerNode', doc='Minimum fraction of the weighted sample count that each child must have after split. If a split causes the fraction of the total weight in the left or right child to be less than minWeightFractionPerNode, the split will be discarded as invalid. Should be in interval [0.0, 0.5).'): 0.0,\n",
       " Param(parent='GBTClassifier_3f47cb87f347', name='predictionCol', doc='prediction column name.'): 'prediction',\n",
       " Param(parent='GBTClassifier_3f47cb87f347', name='probabilityCol', doc='Column name for predicted class conditional probabilities. Note: Not all models output well-calibrated probability estimates! These probabilities should be treated as confidences, not precise probabilities.'): 'probability',\n",
       " Param(parent='GBTClassifier_3f47cb87f347', name='rawPredictionCol', doc='raw prediction (a.k.a. confidence) column name.'): 'rawPrediction',\n",
       " Param(parent='GBTClassifier_3f47cb87f347', name='seed', doc='random seed.'): -2734907431518207061,\n",
       " Param(parent='GBTClassifier_3f47cb87f347', name='stepSize', doc='Step size (a.k.a. learning rate) in interval (0, 1] for shrinking the contribution of each estimator.'): 0.1,\n",
       " Param(parent='GBTClassifier_3f47cb87f347', name='subsamplingRate', doc='Fraction of the training data used for learning each decision tree, in range (0, 1].'): 1.0,\n",
       " Param(parent='GBTClassifier_3f47cb87f347', name='validationTol', doc='Threshold for stopping early when fit with validation is used. If the error rate on the validation input changes by less than the validationTol, then learning will stop early (before `maxIter`). This parameter is ignored when fit without validation is used.'): 0.01}"
      ]
     },
     "execution_count": 11,
     "metadata": {},
     "output_type": "execute_result"
    }
   ],
   "source": [
    "gbt_model.extractParamMap()"
   ]
  },
  {
   "cell_type": "code",
   "execution_count": 12,
   "metadata": {},
   "outputs": [
    {
     "data": {
      "image/png": "[encoded data removed]",
      "text/plain": [
       "<Figure size 432x288 with 1 Axes>"
      ]
     },
     "metadata": {
      "needs_background": "light"
     },
     "output_type": "display_data"
    },
    {
     "data": {
      "image/png": "[encoded data removed]",
      "text/plain": [
       "<Figure size 432x288 with 1 Axes>"
      ]
     },
     "metadata": {
      "needs_background": "light"
     },
     "output_type": "display_data"
    }
   ],
   "source": [
    "#plot signal vs background with prediction\n",
    "plotSignalvsBgWithPrediction(test, result, 'm_bb')\n",
    "plotSignalvsBgWithPrediction(test, result, 'm_wwbb')"
   ]
  },
  {
   "cell_type": "markdown",
   "metadata": {},
   "source": [
    "# Hyperparameter scan\n",
    "\n",
    "- documentation: https://spark.apache.org/docs/latest/ml-tuning.html"
   ]
  },
  {
   "cell_type": "code",
   "execution_count": 13,
   "metadata": {},
   "outputs": [
    {
     "name": "stdout",
     "output_type": "stream",
     "text": [
      "We will use 7981 events for the grid search\n"
     ]
    }
   ],
   "source": [
    "#reduce number of events for training if needed\n",
    "subSample = train.sample(fraction=1.0/10, withReplacement=False).cache()\n",
    "print('We will use ' +str(subSample.count()) + ' events for the grid search')"
   ]
  },
  {
   "cell_type": "code",
   "execution_count": 14,
   "metadata": {},
   "outputs": [],
   "source": [
    "#Do hyperparameter tuning \n",
    "from pyspark.ml.tuning import ParamGridBuilder, CrossValidator, TrainValidationSplit\n",
    "from pyspark.ml.evaluation import BinaryClassificationEvaluator\n",
    "\n",
    "gbt = GBTClassifier(labelCol='label', featuresCol='features', maxIter=10, maxDepth=3)\n",
    "\n",
    "evaluator=BinaryClassificationEvaluator(metricName='areaUnderROC')\n",
    "\n",
    "#choose hyperparameter space\n",
    "paramGrid = ParamGridBuilder()\\\n",
    "  .addGrid(gbt.maxDepth, [1,5])\\\n",
    "  .addGrid(gbt.maxIter, [10,20])\\\n",
    "  .build()"
   ]
  },
  {
   "cell_type": "code",
   "execution_count": 15,
   "metadata": {},
   "outputs": [],
   "source": [
    "# validation split\n",
    "tvs = TrainValidationSplit(estimator=gbt,\n",
    "                           estimatorParamMaps=paramGrid,\n",
    "                           evaluator=evaluator,\n",
    "                           trainRatio=0.8)# 80% of the data will be used for training, 20% for validation"
   ]
  },
  {
   "cell_type": "markdown",
   "metadata": {},
   "source": [
    "**TIP:** after starting the following cell, close the Spark monitoring window or it will slow down your notebook display considerably."
   ]
  },
  {
   "cell_type": "code",
   "execution_count": 16,
   "metadata": {},
   "outputs": [
    {
     "name": "stdout",
     "output_type": "stream",
     "text": [
      "CPU times: user 2.75 s, sys: 493 ms, total: 3.25 s\n",
      "Wall time: 48.8 s\n"
     ]
    }
   ],
   "source": [
    "#take care, might take long time, depending on hyperparameter choice\n",
    "\n",
    "%time bestModel = tvs.fit(subSample)"
   ]
  },
  {
   "cell_type": "code",
   "execution_count": 17,
   "metadata": {},
   "outputs": [
    {
     "name": "stdout",
     "output_type": "stream",
     "text": [
      "maxDepth = 5\n",
      "maxIter = 20\n"
     ]
    }
   ],
   "source": [
    "#It is possile to see the score obtained (in this case the AUC) for each set of parameters\n",
    "\n",
    "print('maxDepth = '+str(bestModel.bestModel._java_obj.getMaxDepth()))\n",
    "print('maxIter = '+str(bestModel.bestModel._java_obj.getMaxIter()))"
   ]
  },
  {
   "cell_type": "code",
   "execution_count": 18,
   "metadata": {},
   "outputs": [
    {
     "name": "stdout",
     "output_type": "stream",
     "text": [
      "Test set AUC = 0.7573530743853328\n"
     ]
    }
   ],
   "source": [
    "# compute accuracy on the test set\n",
    "result = bestModel.transform(test)\n",
    "\n",
    "evaluator = BinaryClassificationEvaluator(labelCol='label', metricName=\"areaUnderROC\")\n",
    "print(\"Test set AUC = \" + str(evaluator.evaluate(result)))"
   ]
  },
  {
   "cell_type": "code",
   "execution_count": 19,
   "metadata": {},
   "outputs": [
    {
     "data": {
      "image/png": "[encoded data removed]",
      "text/plain": [
       "<Figure size 432x288 with 1 Axes>"
      ]
     },
     "metadata": {
      "needs_background": "light"
     },
     "output_type": "display_data"
    }
   ],
   "source": [
    "#make ROC curve with best model\n",
    "#!pip install sklearn\n",
    "#import sklearn\n",
    "#problema con sklearn risolto eseguendo nel terminale il comando:\n",
    "#pip install -U scikit-learn\n",
    "drawROC(result)"
   ]
  },
  {
   "cell_type": "code",
   "execution_count": 20,
   "metadata": {},
   "outputs": [
    {
     "data": {
      "image/png": "[encoded data removed]",
      "text/plain": [
       "<Figure size 432x288 with 1 Axes>"
      ]
     },
     "metadata": {
      "needs_background": "light"
     },
     "output_type": "display_data"
    },
    {
     "data": {
      "image/png": "[encoded data removed]",
      "text/plain": [
       "<Figure size 432x288 with 1 Axes>"
      ]
     },
     "metadata": {
      "needs_background": "light"
     },
     "output_type": "display_data"
    }
   ],
   "source": [
    "#plot signal vs background with prediction\n",
    "plotSignalvsBgWithPrediction(test, result, 'm_bb')\n",
    "plotSignalvsBgWithPrediction(test, result, 'm_wwbb')"
   ]
  },
  {
   "cell_type": "markdown",
   "metadata": {},
   "source": [
    "# Exercise 2\n",
    "\n",
    "- which set of hyperparameters did you get? Did you get better performances in terms of metrics, signal vs background separation? Are you over- under-fitting? How can you check?\n",
    "- try to implement the cross validation method, and describe what changes (results, training time, performances, ...): do you get the same hyper-parameters? Why?"
   ]
  },
  {
   "cell_type": "code",
   "execution_count": 21,
   "metadata": {},
   "outputs": [
    {
     "name": "stdout",
     "output_type": "stream",
     "text": [
      "CPU times: user 6.12 s, sys: 1.3 s, total: 7.42 s\n",
      "Wall time: 1min 12s\n",
      "maxDepth = 5\n",
      "maxIter = 20\n"
     ]
    }
   ],
   "source": [
    "#Your code here\n",
    "cv = CrossValidator(estimator=gbt, \n",
    "                    evaluator=evaluator,\n",
    "                    estimatorParamMaps=paramGrid,\n",
    "                    numFolds=3, parallelism=3)  #increase numFolds carefully, tipycally this would be 3 or 10\n",
    "%time bestModelCV = cv.fit(subSample)\n",
    "print('maxDepth = '+str(bestModelCV.bestModel._java_obj.getMaxDepth()))\n",
    "print('maxIter = '+str(bestModelCV.bestModel._java_obj.getMaxIter()))\n"
   ]
  },
  {
   "cell_type": "code",
   "execution_count": 22,
   "metadata": {},
   "outputs": [
    {
     "name": "stdout",
     "output_type": "stream",
     "text": [
      "We will use \n"
     ]
    }
   ],
   "source": [
    "print('We will use ')"
   ]
  },
  {
   "cell_type": "code",
   "execution_count": null,
   "metadata": {},
   "outputs": [],
   "source": []
  }
 ],
 "metadata": {
  "kernelspec": {
   "display_name": "Python 3",
   "language": "python",
   "name": "python3"
  },
  "language_info": {
   "codemirror_mode": {
    "name": "ipython",
    "version": 3
   },
   "file_extension": ".py",
   "mimetype": "text/x-python",
   "name": "python",
   "nbconvert_exporter": "python",
   "pygments_lexer": "ipython3",
   "version": "3.8.5"
  },
  "sparkconnect": {
   "bundled_options": [],
   "list_of_options": []
  }
 },
 "nbformat": 4,
 "nbformat_minor": 2
}
